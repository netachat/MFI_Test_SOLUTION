{
 "cells": [
  {
   "cell_type": "markdown",
   "metadata": {},
   "source": [
    "#  download data"
   ]
  },
  {
   "cell_type": "code",
   "execution_count": null,
   "metadata": {},
   "outputs": [],
   "source": [
    "import cdsapi\n",
    "c = cdsapi.Client()\n",
    "c.retrieve(\n",
    "    'reanalysis-era5-land',\n",
    "    {\n",
    "        'format': 'grib',\n",
    "        'area': [\n",
    "            -9, 15, -13,\n",
    "            17,\n",
    "        ],\n",
    "        'year': [\n",
    "            '1981', '1982', '1983',\n",
    "            '1984', '1985', '1986',\n",
    "            '1987', '1988', '1989',\n",
    "            '1990', '1991', '1992',\n",
    "            '1993', '1994', '1995',\n",
    "            '1996', '1997', '1998',\n",
    "            '1999', '2000', '2001',\n",
    "            '2002', '2003', '2004',\n",
    "            '2005', '2006', '2007',\n",
    "            '2008', '2009', '2010',\n",
    "        ],\n",
    "        'variable': 'total_precipitation',\n",
    "    },\n",
    "    'Data.grib')"
   ]
  },
  {
   "cell_type": "code",
   "execution_count": null,
   "metadata": {},
   "outputs": [],
   "source": [
    "import pygrib\n",
    "import numpy as np\n",
    "import matplotlib.pyplot as plt\n",
    "import os\n",
    "\n",
    "file=os.path.abspath(os.getcwd())\n",
    "file=file+'/Data.grib'\n",
    "#file = '/home/az/Bureau/MFI_Test/Data.grib' # fix your path\n",
    "if os.path.isfile(file) :\n",
    "    \n",
    "    gr = pygrib.open(file)\n",
    "else :\n",
    "    print(\"put the correcte path in file \")\n",
    "gr.rewind() # rewind the iterator\n",
    "Liste_Value=[] # put data in list\n",
    "Liste_SumVal=[] # compte the sum of each (day)\n",
    "for msg in gr:\n",
    "    temps_vals=msg.values\n",
    "    Liste_Value.append(temps_vals)\n",
    "    Liste_SumVal.append(np.sum(temps_vals))\n",
    "\n",
    "All_Value=np.array(Liste_Value)\n",
    "All_SumVal=np.array(Liste_SumVal)"
   ]
  },
  {
   "cell_type": "markdown",
   "metadata": {},
   "source": [
    "#  Onset for the  All area between 1981-2012"
   ]
  },
  {
   "cell_type": "code",
   "execution_count": null,
   "metadata": {},
   "outputs": [],
   "source": [
    "# convert m3/m3 to mm\n",
    "def id2precip(Input):\n",
    "    temp=Input*100\n",
    "    return 0.0014*temp*temp+0.7166*temp\n",
    "\n",
    "def id2precip2(Input):\n",
    "    return Input*1000"
   ]
  },
  {
   "cell_type": "code",
   "execution_count": null,
   "metadata": {
    "scrolled": false
   },
   "outputs": [],
   "source": [
    "## camput AA for all aera : \n",
    "A=id2precip2(All_Value)\n",
    "B=id2precip2(All_SumVal)\n",
    "\n",
    "import numpy as np \n",
    "def AA(Input):\n",
    "    Moy=np.mean(Input)\n",
    "    aa=[]\n",
    "    for i in range(1,366):\n",
    "        aa.append(sum(Input[0:i]-Moy))\n",
    "    return np.array(aa)\n",
    "\n",
    "\n",
    "def plotAA(Input,year):\n",
    "    plt.plot(Input, label=year)    \n",
    "    #end=np.argmax(Input)\n",
    "    #start=np.argmin(Input)\n",
    "    #plt.plot([start,start],[Input[start],Input[end]],color='black')  \n",
    "    #plt.text(start,Input[start],\"Start\")\n",
    "    #plt.plot([end,end],[Input[start],Input[end]],color='black')  \n",
    "    #plt.text(end,Input[end],\"end\")\n",
    "    \n",
    "    plt.ylabel(\"Accumultion\")\n",
    "    plt.xlabel(\"days\")\n",
    "    plt.title(\"Onset and End Rain sesion\")\n",
    "    plt.legend()\n",
    "\n",
    "\n",
    "year = 365\n",
    "dic_year={}\n",
    "\n",
    "fig =plt.figure(figsize=(15,10))\n",
    "for i in range(1,31):\n",
    "    aa=AA(B[(i-1)*year:i*year])\n",
    "    #plotAA(aa,1980+i)\n",
    "    plt.plot(aa, label=1980+i)  \n",
    "    dic_year[1980+i]=np.argmin(aa)\n",
    "plt.ylabel(\"Accumultion\")\n",
    "plt.xlabel(\"days\")\n",
    "plt.title(\"Onset and End Rain sesion\")\n",
    "plt.legend()\n",
    "    \n"
   ]
  },
  {
   "cell_type": "markdown",
   "metadata": {},
   "source": [
    "The AA compyted by Liebmann’s method\n",
    " \n",
    "Dans cette parti nous avons étudiés la variabilité des OD de la prériode en question. "
   ]
  },
  {
   "cell_type": "code",
   "execution_count": null,
   "metadata": {},
   "outputs": [],
   "source": [
    "fig =plt.figure(\"variability years/days\",figsize=(15,10))\n",
    "plt.scatter(dic_year.keys(),dic_year.values())\n",
    "plt.xlabel(\"Years\")\n",
    "plt.ylabel(\"Days\")\n",
    "plt.title(\"Interannual variability of onset dates\")\n",
    "plt.xticks(np.arange(1981,2011), rotation=60)\n",
    "\n",
    "\n",
    "Y= np.array([i for i in dic_year.values()])\n",
    "X=np.array([i for i in dic_year.keys()])\n",
    "from scipy import stats\n",
    "def predict(X,Y):\n",
    "    slope, intercept, r_value, p_value, std_err = stats.linregress(X, Y)\n",
    "    return slope * np.array(X) + intercept\n",
    "fitLine = predict(X,Y)\n",
    "plt.plot(X, fitLine, c='r',label=\"Linear Regression\")\n",
    "plt.legend()"
   ]
  },
  {
   "cell_type": "markdown",
   "metadata": {},
   "source": [
    "the previous image shows the onset date for each year between 1981 and 2020 for all area (Interannual variability of onset dates).\n",
    "\n",
    "In term of average, we notice that the OD of the studied area is varying from year to year. In addition, we observe a progressive delay of OD.\n"
   ]
  },
  {
   "cell_type": "markdown",
   "metadata": {},
   "source": [
    "#  Onsent for each grid point in the area"
   ]
  },
  {
   "cell_type": "code",
   "execution_count": null,
   "metadata": {},
   "outputs": [],
   "source": [
    "def AA_Grid(Input):\n",
    "    Moy=np.mean(Input,axis=0)\n",
    "    aa=[]\n",
    "    for i in range(1,366):\n",
    "        aa.append(sum(Input[0:i]-Moy))\n",
    "    return np.array(aa)\n",
    "\n",
    "start_grid=[]\n",
    "\n",
    "fig =plt.figure(figsize=(20,20))\n",
    "for i in range(1,31):\n",
    "    aa_grid=AA_Grid(A[(i-1)*year:i*year])\n",
    "    start_grid.append(np.argmin(aa_grid,axis=0))\n",
    "    plt.subplot(5,6,i)\n",
    "    plt.imshow(start_grid[i-1],cmap=plt.cm.get_cmap('jet', len(np.unique(start_grid[i-1]))))\n",
    "    plt.title(str(1980+i)+\" Nb OD:\"+str(len(np.unique(start_grid[i-1]))))\n",
    "    plt.colorbar()\n"
   ]
  },
  {
   "cell_type": "markdown",
   "metadata": {},
   "source": [
    "The previous figure shows the OD for each grid point in area for preriod 1981 until 2010.\n",
    "\n",
    "\n",
    "We observe that the number of Onset dates (OD) on the studied area is very irregular from one year to another, ranging from 12 days (for the years 2005 and 2003) to 28 days (for the years 1989 and 2002).\n",
    "\n"
   ]
  },
  {
   "cell_type": "code",
   "execution_count": null,
   "metadata": {
    "scrolled": false
   },
   "outputs": [],
   "source": [
    "start_grid_avreg=np.mean(np.array(start_grid),axis=0,dtype=int)\n",
    "fig =plt.figure(figsize=(15,15))\n",
    "#plt.imshow(start_grid_avreg,cmap=plt.cm.get_cmap('jet', 20))#len(np.unique(start_grid_avreg))))\n",
    "plt.imshow(start_grid_avreg,cmap=plt.cm.get_cmap('jet',len(np.unique(start_grid_avreg))))\n",
    "plt.colorbar()\n",
    "plt.title(\"Avrege Start Date\")\n",
    "plt.xticks(np.arange(21),(\"15E\",\"\",\"\",\"\",\"\",\"15.5E\",\"\",\"\",\"\",\"\",\"16E\",\"\",\"\",\"\",\"\",\"16.5E\",\"\",\"\",\"\",\"\",\"17E\"))\n",
    "plt.yticks(np.arange(41),(\"-9N\",\"\",\"\",\"\",\"\",\"\",\"\",\"\",\"\",\"\",\"-10N\",\"\",\"\",\"\",\"\",\"\",\"\",\"\",\"\",\"\",\"-11N\",\"\",\"\",\"\",\"\",\"\",\"\",\"\",\"\",\"\",\"-12N\",\"\",\"\",\"\",\"\",\"\",\"\",\"\",\"\",\"\",\"-13N\"))\n"
   ]
  },
  {
   "cell_type": "markdown",
   "metadata": {},
   "source": [
    "The previous figure shows the  avrege onset date for each grid point in area for preriod 1981 until 2010.\n",
    "\n",
    "In term of average, we clearly observe the presence of a spatial gradient from north to south."
   ]
  },
  {
   "cell_type": "code",
   "execution_count": null,
   "metadata": {},
   "outputs": [],
   "source": [
    "import cdsapi\n",
    "c = cdsapi.Client()\n",
    "c.retrieve(\n",
    "    'reanalysis-era5-land',\n",
    "    {\n",
    "        'format': 'grib',\n",
    "        'area': [\n",
    "           -9.54,16.33,-9.56,16.35,\n",
    "        ],\n",
    "        'year': [\n",
    "            '1981', '1982', '1983',\n",
    "            '1984', '1985', '1986',\n",
    "            '1987', '1988', '1989',\n",
    "            '1990', '1991', '1992',\n",
    "            '1993', '1994', '1995',\n",
    "            '1996', '1997', '1998',\n",
    "            '1999', '2000', '2001',\n",
    "            '2002', '2003', '2004',\n",
    "            '2005', '2006', '2007',\n",
    "            '2008', '2009', '2010',\n",
    "        ],\n",
    "        'variable': 'total_precipitation',\n",
    "    },\n",
    "    'DataM.grib')\n",
    "\n",
    "\n",
    "c.retrieve(\n",
    "    'reanalysis-era5-land',\n",
    "    {\n",
    "        'format': 'grib',\n",
    "        'area': [\n",
    "           -12.76,15.72,-12.78,15.74,\n",
    "        ],\n",
    "        'year': [\n",
    "            '1981', '1982', '1983',\n",
    "            '1984', '1985', '1986',\n",
    "            '1987', '1988', '1989',\n",
    "            '1990', '1991', '1992',\n",
    "            '1993', '1994', '1995',\n",
    "            '1996', '1997', '1998',\n",
    "            '1999', '2000', '2001',\n",
    "            '2002', '2003', '2004',\n",
    "            '2005', '2006', '2007',\n",
    "            '2008', '2009', '2010',\n",
    "        ],\n",
    "        'variable': 'total_precipitation',\n",
    "    },\n",
    "    'DataH.grib')"
   ]
  },
  {
   "cell_type": "code",
   "execution_count": null,
   "metadata": {},
   "outputs": [],
   "source": [
    "#fileM = '/home/az/Bureau/MFI_Test/DataM.grib' #put the correcte filename path \n",
    "#fileH = '/home/az/Bureau/MFI_Test/DataH.grib' #put the correcte filename path \n",
    "\n",
    "file=os.path.abspath(os.getcwd())\n",
    "fileM=file+'/DataM.grib'\n",
    "fileH=file+'/DataH.grib'\n",
    "\n",
    "grM = pygrib.open(fileM)\n",
    "grH = pygrib.open(fileH)\n",
    "grM.rewind() # rewind the iterator\n",
    "grH.rewind() # rewind the iterator\n",
    "MListe_Value=[]\n",
    "HListe_Value=[]\n",
    "\n",
    "for msgM in grM:\n",
    "    temps_valsM=msgM.values\n",
    "    MListe_Value.append(temps_valsM)\n",
    "    \n",
    "for msgH in grH:\n",
    "    temps_valsH=msgH.values\n",
    "    HListe_Value.append(temps_valsH)\n",
    "\n",
    "MAll_Value=np.array(MListe_Value)\n",
    "HAll_Value=np.array(HListe_Value)\n",
    "\n",
    "M_mm=id2precip2(MAll_Value)\n",
    "H_mm=id2precip2(HAll_Value)   \n",
    "\n",
    "\n"
   ]
  },
  {
   "cell_type": "code",
   "execution_count": null,
   "metadata": {},
   "outputs": [],
   "source": [
    "#%%\n",
    "dic_yearM={}\n",
    "fig =plt.figure('AA_Malanje')\n",
    "for i in range(1,31):\n",
    "    aa=AA(M_mm[(i-1)*year:i*year])\n",
    "    plt.plot(aa,label=str(1980+i))\n",
    "    dic_yearM[1980+i]=np.argmin(aa)\n",
    "plt.legend()\n",
    "plt.ylabel(\"Accumultion\")\n",
    "plt.xlabel(\"days\")\n",
    "plt.title(\"Anomalous Accumulation Malanje \")\n",
    "\n",
    "#%%\n"
   ]
  },
  {
   "cell_type": "code",
   "execution_count": null,
   "metadata": {},
   "outputs": [],
   "source": [
    "dic_yearH={}\n",
    "fig =plt.figure('AA_Huambo')\n",
    "for i in range(1,31):\n",
    "    aa=AA(H_mm[(i-1)*year:i*year])\n",
    "    plt.plot(aa,label=str(1980+i))\n",
    "    dic_yearH[1980+i]=np.argmin(aa)\n",
    "plt.legend()\n",
    "plt.ylabel(\"Accumultion\")\n",
    "plt.xlabel(\"days\")\n",
    "plt.title(\"Anomalous Accumulation Huambo\")    \n",
    "\n",
    "#%%"
   ]
  },
  {
   "cell_type": "code",
   "execution_count": null,
   "metadata": {},
   "outputs": [],
   "source": [
    "fig =plt.figure(\"variability years/days \",figsize=(15,10))\n",
    "plt.scatter(dic_yearM.keys(),dic_yearM.values(),label=\"Malanje\",color='r')\n",
    "plt.scatter(dic_yearH.keys(),dic_yearH.values(),label=\"Huambo\",,color='b')\n",
    "plt.plot(dic_yearM.keys(),dic_yearM.values())\n",
    "plt.plot(dic_yearH.keys(),dic_yearH.values())\n",
    "plt.xlabel(\"Years\")\n",
    "plt.ylabel(\"Days\")\n",
    "plt.title(\"variability years/days\")\n",
    "plt.legend()\n",
    "plt.xticks(np.arange(1981,2011), rotation=60)"
   ]
  },
  {
   "cell_type": "markdown",
   "metadata": {},
   "source": [
    "The figure presente the inter-annual variability of onset dates for Manlanje (read) and Huambo (bleu).\n",
    "\n",
    "We observe that the temporal variability of the onset date for the two cities Huambo and Malanje are highly correlated. Durring the period 1981-1988 and 2002-2010 the Malanje's Onset is detected before the Huambo's Onset,  on the other hand, for the period 1989- 2001 the Malanje's Onset is detected before the Huambo's.\n",
    "\n"
   ]
  },
  {
   "cell_type": "code",
   "execution_count": null,
   "metadata": {},
   "outputs": [],
   "source": []
  }
 ],
 "metadata": {
  "kernelspec": {
   "display_name": "Python 3",
   "language": "python",
   "name": "python3"
  },
  "language_info": {
   "codemirror_mode": {
    "name": "ipython",
    "version": 3
   },
   "file_extension": ".py",
   "mimetype": "text/x-python",
   "name": "python",
   "nbconvert_exporter": "python",
   "pygments_lexer": "ipython3",
   "version": "3.7.6"
  }
 },
 "nbformat": 4,
 "nbformat_minor": 4
}
